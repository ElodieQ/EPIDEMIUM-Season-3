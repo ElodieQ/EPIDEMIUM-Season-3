{
 "cells": [
  {
   "cell_type": "code",
   "execution_count": 1,
   "metadata": {},
   "outputs": [],
   "source": [
    "import warnings\n",
    "warnings.filterwarnings('ignore')\n",
    "import numpy as np\n",
    "import pandas as pd\n",
    "import matplotlib.pyplot as plt\n",
    "from pathlib import Path\n",
    "from tqdm.notebook import tqdm\n",
    "import sys\n",
    "sys.path.append(str(Path('.').resolve().parents[0].joinpath('code')))\n",
    "from ppc import get_train_val_test_dfs, red_count_preprocess, full_preprocess\n",
    "from sklearn.ensemble import RandomForestClassifier\n",
    "from sklearn.model_selection import GridSearchCV\n",
    "from xgboost import XGBClassifier"
   ]
  },
  {
   "cell_type": "code",
   "execution_count": 2,
   "metadata": {},
   "outputs": [],
   "source": [
    "## PARAMETERS \n",
    "type = 'all_features' # \"all_features\", \"one_feature\"\n",
    "red_thresh = 30\n",
    "model_type = 'xgboost' # \"RF\" , 'xgboost'\n",
    "tuning = False \n",
    "rf_params = {'bootstrap': True,\n",
    " 'max_depth': 40,\n",
    " 'max_features': 'auto',\n",
    " 'min_samples_leaf': 1,\n",
    " 'min_samples_split': 10,\n",
    " 'n_estimators': 50}\n",
    "\n",
    "xgboost_params =  {'colsample_bytree': 0.3, \n",
    "    'learning_rate': 0.1,\n",
    "    'max_depth': 6,\n",
    "    'n_estimators': 100}"
   ]
  },
  {
   "cell_type": "markdown",
   "metadata": {},
   "source": [
    "## Dataset with images unloaded"
   ]
  },
  {
   "cell_type": "code",
   "execution_count": 3,
   "metadata": {},
   "outputs": [
    {
     "data": {
      "text/plain": [
       "((91637, 9), (32961, 9), (33561, 7), (91637,), (32961,))"
      ]
     },
     "execution_count": 3,
     "metadata": {},
     "output_type": "execute_result"
    }
   ],
   "source": [
    "df_train, df_val, df_test = get_train_val_test_dfs(val_size=.3)\n",
    "y_train = df_train['target'].apply(int).values\n",
    "y_val = df_val['target'].apply(int).values\n",
    "df_train.shape, df_val.shape, df_test.shape, y_train.shape, y_val.shape"
   ]
  },
  {
   "cell_type": "markdown",
   "metadata": {},
   "source": [
    "## One feature : percentage of red pixels for each image or Multiple features "
   ]
  },
  {
   "cell_type": "code",
   "execution_count": 4,
   "metadata": {},
   "outputs": [],
   "source": [
    "if type == 'one_feature' : \n",
    "    X_train = red_count_preprocess(df_train, red_thresh=red_thresh)\n",
    "    X_val = red_count_preprocess(df_val, red_thresh=red_thresh)\n",
    "    X_train.shape, X_val.shape\n",
    "\n",
    "elif type == 'all_features' :\n",
    "    features = [ 'OMS', 'RNA_scope', 'Tabac',  'Alcool', 'Age_diag' ] #, \"Sexe'\" , 'T','N', 'M'\n",
    "    data_path = Path('.').resolve().parents[0].joinpath('data')\n",
    "    train_db_path = str(data_path.joinpath('KORL_avatar_train.csv'))\n",
    "    X_train = full_preprocess(features, train_db_path, df_train, red_thresh= red_thresh )\n",
    "    X_val = full_preprocess(features, train_db_path, df_val, red_thresh= red_thresh )\n",
    "    X_train.shape, y_train.shape, X_val.shape, y_val.shape"
   ]
  },
  {
   "cell_type": "markdown",
   "metadata": {},
   "source": [
    "# Hyperparameters tuning"
   ]
  },
  {
   "cell_type": "code",
   "execution_count": 5,
   "metadata": {},
   "outputs": [],
   "source": [
    "if tuning and model_type == 'RF' : \n",
    "    random_grid_RF = {'n_estimators': [int(x) for x in np.linspace(start = 50, stop = 400, num = 4)] ,\n",
    "                'max_features': ['auto', 'sqrt'],\n",
    "                'max_depth': [int(x) for x in np.linspace(3, 50, num = 6)],\n",
    "                'min_samples_split': [2, 5, 10],\n",
    "                'min_samples_leaf': [1, 2, 4],\n",
    "                'bootstrap': [True, False] }\n",
    "\n",
    "    rf = RandomForestClassifier()\n",
    "    # Random search of parameters, using 3 fold cross validation, \n",
    "    rf_random = GridSearchCV(estimator = rf, param_grid = random_grid_RF, cv = 3, verbose=2, n_jobs = -1)\n",
    "    # Fit the random search model\n",
    "    rf_random.fit(X_train, y_train)\n",
    "\n",
    "    rf_params  = rf_random.best_params_\n",
    "    print('Best paramaters : ' , rf_params)\n",
    "\n",
    "if tuning and model_type == 'xgboost' : \n",
    "    random_grid_xgboost = { 'max_depth': [3,6,10],\n",
    "           'learning_rate': [0.01, 0.05, 0.1],\n",
    "           'n_estimators': [50, 100, 500, 1000],\n",
    "           'colsample_bytree': [0.3, 0.7]}\n",
    "\n",
    "    model = XGBClassifier()\n",
    "    # Random search of parameters, using 3 fold cross validation, \n",
    "    model_random = GridSearchCV(estimator = model, param_grid = random_grid_xgboost, cv = 3, verbose=2, n_jobs = -1)\n",
    "    # Fit the random search model\n",
    "    model_random.fit(X_train, y_train)\n",
    "\n",
    "    xgboost_params  = model_random.best_params_\n",
    "    print('Best paramaters : ' , xgboost_params)"
   ]
  },
  {
   "cell_type": "markdown",
   "metadata": {},
   "source": [
    "# Train"
   ]
  },
  {
   "cell_type": "code",
   "execution_count": 6,
   "metadata": {},
   "outputs": [
    {
     "name": "stdout",
     "output_type": "stream",
     "text": [
      "[21:18:35] WARNING: C:/Users/Administrator/workspace/xgboost-win64_release_1.5.1/src/learner.cc:1115: Starting in XGBoost 1.3.0, the default evaluation metric used with the objective 'multi:softprob' was changed from 'merror' to 'mlogloss'. Explicitly set eval_metric if you'd like to restore the old behavior.\n"
     ]
    },
    {
     "data": {
      "text/plain": [
       "(0.9999781747547388, 0.37996420011528775)"
      ]
     },
     "execution_count": 6,
     "metadata": {},
     "output_type": "execute_result"
    }
   ],
   "source": [
    "if model_type == 'RF' : \n",
    "    model = RandomForestClassifier(n_estimators=rf_params ['n_estimators'],\n",
    "                                min_samples_split=rf_params ['min_samples_split'],\n",
    "                                min_samples_leaf=rf_params ['min_samples_leaf'],\n",
    "                                max_features=rf_params ['max_features'],\n",
    "                                max_depth=rf_params ['max_depth'],\n",
    "                                bootstrap=rf_params ['bootstrap'])\n",
    "elif model_type == 'xgboost' : \n",
    "    model = XGBClassifier(max_depth=xgboost_params ['max_depth'],\n",
    "                        learning_rate=xgboost_params ['learning_rate'],\n",
    "                        n_estimators=xgboost_params ['n_estimators'],\n",
    "                        colsample_bytree=xgboost_params ['colsample_bytree'])\n",
    "model.fit(X_train, y_train)\n",
    "model.score(X_train, y_train), model.score(X_val, y_val)"
   ]
  },
  {
   "cell_type": "markdown",
   "metadata": {},
   "source": [
    "# Performance of the model"
   ]
  },
  {
   "cell_type": "code",
   "execution_count": 7,
   "metadata": {},
   "outputs": [
    {
     "data": {
      "text/plain": [
       "(0.3333333333333333, 4, 12)"
      ]
     },
     "execution_count": 7,
     "metadata": {},
     "output_type": "execute_result"
    }
   ],
   "source": [
    "# Aggregate to see result per patient\n",
    "df_val['pred'] = model.predict(X_val)\n",
    "n_correct = 0\n",
    "n_total = 0\n",
    "for i, gb_df in df_val.groupby('patient'):\n",
    "    target = gb_df['target'].values[0]\n",
    "    pred = gb_df['pred'].value_counts().index[0]\n",
    "    n_correct += target == pred\n",
    "    n_total += 1\n",
    "n_correct / n_total, n_correct, n_total"
   ]
  },
  {
   "cell_type": "markdown",
   "metadata": {},
   "source": [
    "# Feature importance"
   ]
  },
  {
   "cell_type": "code",
   "execution_count": 8,
   "metadata": {},
   "outputs": [
    {
     "data": {
      "image/png": "[encoded data removed]",
      "text/plain": [
       "<Figure size 432x288 with 1 Axes>"
      ]
     },
     "metadata": {
      "needs_background": "light"
     },
     "output_type": "display_data"
    }
   ],
   "source": [
    "fig, ax = plt.subplots()\n",
    "if model_type == 'RF' : \n",
    "    std = np.std([tree.feature_importances_ for tree in model.estimators_], axis=0)\n",
    "    model_importances = pd.Series( model.feature_importances_, index=X_train.columns)\n",
    "    model_importances.plot.bar(yerr=std, ax=ax)\n",
    "    \n",
    "if model_type == 'xgboost' : \n",
    "    model_importances = pd.Series(model.feature_importances_, index = X_train.columns)\n",
    "    model_importances.plot.bar( ax=ax)\n",
    "\n",
    "ax.set_title(\"Feature importances\")\n",
    "ax.set_ylabel(\"Mean decrease in impurity\")\n",
    "fig.tight_layout()"
   ]
  },
  {
   "cell_type": "code",
   "execution_count": null,
   "metadata": {},
   "outputs": [],
   "source": []
  }
 ],
 "metadata": {
  "kernelspec": {
   "display_name": "Python 3",
   "language": "python",
   "name": "python3"
  },
  "language_info": {
   "codemirror_mode": {
    "name": "ipython",
    "version": 3
   },
   "file_extension": ".py",
   "mimetype": "text/x-python",
   "name": "python",
   "nbconvert_exporter": "python",
   "pygments_lexer": "ipython3",
   "version": "3.8.3"
  }
 },
 "nbformat": 4,
 "nbformat_minor": 4
}
